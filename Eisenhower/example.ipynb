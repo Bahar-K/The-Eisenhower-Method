{
 "cells": [
  {
   "cell_type": "code",
   "execution_count": 2,
   "metadata": {},
   "outputs": [],
   "source": [
    "import pandas as pd"
   ]
  },
  {
   "cell_type": "code",
   "execution_count": 6,
   "metadata": {},
   "outputs": [],
   "source": [
    "class EisenhowerMatrix:\n",
    "    \"\"\"\n",
    "    This class is for Eisenhower Matrix\n",
    "    If you want to get information about it you can look this blog\n",
    "    \"\"\"\n",
    "    def __init__(self) -> None:\n",
    "        self.task_number = int(input(\"How many task will you write?\"))\n",
    "        self.important = str(input(\"Is the task important? y/n\"))\n",
    "        self.urgent = str(input(\"Is the task urgent? y/n\"))\n",
    "    \n",
    "    def which_quadrant(self):\n",
    "        if self.important == \"y\" and self.urgent == \"y\":\n",
    "            return \"Do\"\n",
    "        elif self.important == \"y\" and self.urgent == \"n\":\n",
    "            return \"Decide\"\n",
    "        elif self.important == \"n\" and self.urgent == \"y\":\n",
    "            return \"Delegate\"\n",
    "        elif self.important == \"n\" and self.urgent == \"n\":\n",
    "            return \"Delete\"\n",
    "\n",
    "    def add_quadrant(self):\n",
    "        data = {'Do': [],\n",
    "                'Decide': [],\n",
    "                'Delegate': [],\n",
    "                'Delete': []}\n",
    "\n",
    "        df = pd.DataFrame(data)\n",
    "\n",
    "        for i in range(self.task_number):\n",
    "            answer = self.which_quadrant()\n",
    "            task_expl = input(\"Explanation of your task is: \")\n",
    "\n",
    "            if \"Do\" == answer:\n",
    "                df = df.append({\"Do\": task_expl}, ignore_index=True)\n",
    "            elif \"Decide\" == answer:\n",
    "                df = df.append({\"Decide\": task_expl}, ignore_index=True)\n",
    "            elif \"Delegate\" == answer:\n",
    "                df = df.append({\"Delegate\": task_expl}, ignore_index=True)\n",
    "            elif \"Delete\" == answer:\n",
    "                df = df.append({\"Delete\": task_expl}, ignore_index=True)\n",
    "\n",
    "        file_exists = False\n",
    "        try:\n",
    "            with open(\"eisenhower_data1.csv\", \"r\") as f:\n",
    "                file_exists = True\n",
    "        except FileNotFoundError:\n",
    "            file_exists = False\n",
    "\n",
    "        if file_exists:\n",
    "            df.to_csv(\"eisenhower_data1.csv\", mode='a', header=True,index=False)\n",
    "        else:\n",
    "            df.to_csv(\"eisenhower_data1.csv\", mode='w', header=False,index=False)\n",
    "        \n",
    "    def eisenhowerMatrix(self):\n",
    "        self.add_quadrant()\n",
    "        self.which_quadrant()"
   ]
  },
  {
   "cell_type": "code",
   "execution_count": 5,
   "metadata": {},
   "outputs": [
    {
     "name": "stderr",
     "output_type": "stream",
     "text": [
      "C:\\Users\\bhrak\\AppData\\Local\\Temp\\ipykernel_2808\\577732907.py:38: FutureWarning: The frame.append method is deprecated and will be removed from pandas in a future version. Use pandas.concat instead.\n",
      "  df = df.append({\"Delegate\": task_expl}, ignore_index=True)\n"
     ]
    }
   ],
   "source": [
    "e = EisenhowerMatrix()\n",
    "e.eisenhowerMatrix()"
   ]
  },
  {
   "cell_type": "code",
   "execution_count": null,
   "metadata": {},
   "outputs": [],
   "source": []
  }
 ],
 "metadata": {
  "kernelspec": {
   "display_name": "base",
   "language": "python",
   "name": "python3"
  },
  "language_info": {
   "codemirror_mode": {
    "name": "ipython",
    "version": 3
   },
   "file_extension": ".py",
   "mimetype": "text/x-python",
   "name": "python",
   "nbconvert_exporter": "python",
   "pygments_lexer": "ipython3",
   "version": "3.9.12"
  },
  "orig_nbformat": 4,
  "vscode": {
   "interpreter": {
    "hash": "2a154b213e4442ba6ce1490714f9d82716be9ee692542ee86b2e7108c62143a3"
   }
  }
 },
 "nbformat": 4,
 "nbformat_minor": 2
}
